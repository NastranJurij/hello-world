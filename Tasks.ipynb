{
 "cells": [
  {
   "cell_type": "markdown",
   "metadata": {},
   "source": [
    "## Python Test\n",
    "\n",
    "My personal ideas for the test:\n",
    "\n",
    "1) Check if year is a leap year\n",
    "\n",
    "if (year is not divisible by 4) then (it is a common year)\n",
    "\n",
    "else if (year is not divisible by 25) then (it is a leap year)\n",
    "\n",
    "else if (year is not divisible by 16) then (it is a common year)\n",
    "\n",
    "else (it is a leap year)"
   ]
  },
  {
   "cell_type": "code",
   "execution_count": 5,
   "metadata": {},
   "outputs": [
    {
     "data": {
      "text/plain": [
       "1"
      ]
     },
     "execution_count": 5,
     "metadata": {},
     "output_type": "execute_result"
    }
   ],
   "source": [
    "def checkLeapYear(year):\n",
    "    if (year%4 != 0):\n",
    "        return 0\n",
    "    elif(year%25 != 0):\n",
    "        return 1\n",
    "    elif(year%16 != 0):\n",
    "        return 0\n",
    "    else:\n",
    "        return 1\n",
    "    \n",
    "checkLeapYear(20)  "
   ]
  },
  {
   "cell_type": "code",
   "execution_count": 10,
   "metadata": {},
   "outputs": [
    {
     "name": "stdout",
     "output_type": "stream",
     "text": [
      "1060\n"
     ]
    }
   ],
   "source": [
    "# Solving: Jurij\n",
    "def isPrime(num):\n",
    "    if num==2: \n",
    "        return True\n",
    "    for i in range(2,num):\n",
    "        if num%i==0:\n",
    "            return False\n",
    "    else:\n",
    "        return True\n",
    "\n",
    "def sumPrimesTillN(N=100):\n",
    "    # define a function that return the sum of all prime numbers until and including N:\n",
    "    sumi = 0\n",
    "    for n in range(2, N+1):\n",
    "        if (isPrime(n)):\n",
    "            sumi = sumi + n\n",
    "    return sumi\n",
    "\n",
    "# test: \n",
    "# print(sumPrimesTillN(N=100))"
   ]
  },
  {
   "cell_type": "markdown",
   "metadata": {},
   "source": [
    "Make a function that tells you how many days a mont has using a dictionary:"
   ]
  },
  {
   "cell_type": "code",
   "execution_count": 1,
   "metadata": {},
   "outputs": [
    {
     "name": "stdout",
     "output_type": "stream",
     "text": [
      "30 28\n"
     ]
    }
   ],
   "source": [
    "def getNumDays(month):\n",
    "    my_dict = {\"January\": 31, \"February\":28, \"March\": 31, \"April\":30, \"May\": 31, \"June\":30, \n",
    "               \"July\": 31, \"August\":31, \"September\": 30, \"October\":31, \"November\": 30, \"December\":31}\n",
    "    return my_dict[month]\n",
    "\n",
    "print( getNumDays(\"September\"), getNumDays(\"February\") )"
   ]
  },
  {
   "cell_type": "code",
   "execution_count": 22,
   "metadata": {},
   "outputs": [
    {
     "name": "stdout",
     "output_type": "stream",
     "text": [
      "26. October, 2020\n"
     ]
    }
   ],
   "source": [
    "def checkLeapYear(year):\n",
    "    if (year%4 != 0):\n",
    "        return 0\n",
    "    elif(year%25 != 0):\n",
    "        return 1\n",
    "    elif(year%16 != 0):\n",
    "        return 0\n",
    "    else:\n",
    "        return 1\n",
    "\n",
    "def getDate(days_since_2000):\n",
    "    if days_since_2000 <= 0:\n",
    "        print(\"Please enter a strictly positive number!\")\n",
    "        return -1\n",
    "    remaining = days_since_2000\n",
    "    year = 2000\n",
    "    while ( remaining > (365 + checkLeapYear(year))):\n",
    "        year = year + 1\n",
    "        remaining = remaining - (365 + checkLeapYear(year))\n",
    "    # now we have the year:\n",
    "    my_dict = {\"January\": 31, \"February\":(28+checkLeapYear(year)), \"March\": 31, \"April\":30, \"May\": 31, \"June\":30, \n",
    "               \"July\": 31, \"August\":31, \"September\": 30, \"October\":31, \"November\": 30, \"December\":31}\n",
    "    months = [\"January\", \"February\", \"March\", \"April\", \"May\", \"June\", \n",
    "               \"July\", \"August\", \"September\", \"October\", \"November\", \"December\"]\n",
    "    \n",
    "    chosen_month = \"January\"\n",
    "    for month in months:\n",
    "        if (remaining <= my_dict[month]):\n",
    "            date = f\"{remaining}. {month}, {year}\"\n",
    "            return date\n",
    "        else:\n",
    "            remaining -= my_dict[month]\n",
    "\n",
    "# test:\n",
    "print( getDate(7605) )"
   ]
  },
  {
   "cell_type": "code",
   "execution_count": null,
   "metadata": {},
   "outputs": [],
   "source": []
  }
 ],
 "metadata": {
  "kernelspec": {
   "display_name": "Python [conda env:root] *",
   "language": "python",
   "name": "conda-root-py"
  },
  "language_info": {
   "codemirror_mode": {
    "name": "ipython",
    "version": 3
   },
   "file_extension": ".py",
   "mimetype": "text/x-python",
   "name": "python",
   "nbconvert_exporter": "python",
   "pygments_lexer": "ipython3",
   "version": "3.7.6"
  }
 },
 "nbformat": 4,
 "nbformat_minor": 2
}
