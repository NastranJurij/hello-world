{
 "cells": [
  {
   "cell_type": "markdown",
   "metadata": {},
   "source": [
    "## Python Test\n",
    "\n",
    "My personal ideas for the test:\n",
    "\n",
    "1) Check if year is a leap year\n",
    "\n",
    "if (year is not divisible by 4) then (it is a common year)\n",
    "\n",
    "else if (year is not divisible by 25) then (it is a leap year)\n",
    "\n",
    "else if (year is not divisible by 16) then (it is a common year)\n",
    "\n",
    "else (it is a leap year)"
   ]
  },
  {
   "cell_type": "code",
   "execution_count": 5,
   "metadata": {},
   "outputs": [
    {
     "data": {
      "text/plain": [
       "1"
      ]
     },
     "execution_count": 5,
     "metadata": {},
     "output_type": "execute_result"
    }
   ],
   "source": [
    "def checkLeapYear(year):\n",
    "    if (year%4 != 0):\n",
    "        return 0\n",
    "    elif(year%25 != 0):\n",
    "        return 1\n",
    "    elif(year%16 != 0):\n",
    "        return 0\n",
    "    else:\n",
    "        return 1\n",
    "    \n",
    "checkLeapYear(20)  "
   ]
  },
  {
   "cell_type": "code",
   "execution_count": null,
   "metadata": {},
   "outputs": [],
   "source": [
    "def sumPrimesTillN(N=100):\n",
    "    # define a function that return the sum of all prime numbers until and including N:\n",
    "    "
   ]
  },
  {
   "cell_type": "code",
   "execution_count": null,
   "metadata": {},
   "outputs": [],
   "source": []
  },
  {
   "cell_type": "code",
   "execution_count": null,
   "metadata": {},
   "outputs": [],
   "source": []
  }
 ],
 "metadata": {
  "kernelspec": {
   "display_name": "Python [conda env:root] *",
   "language": "python",
   "name": "conda-root-py"
  },
  "language_info": {
   "codemirror_mode": {
    "name": "ipython",
    "version": 3
   },
   "file_extension": ".py",
   "mimetype": "text/x-python",
   "name": "python",
   "nbconvert_exporter": "python",
   "pygments_lexer": "ipython3",
   "version": "3.7.6"
  }
 },
 "nbformat": 4,
 "nbformat_minor": 2
}
